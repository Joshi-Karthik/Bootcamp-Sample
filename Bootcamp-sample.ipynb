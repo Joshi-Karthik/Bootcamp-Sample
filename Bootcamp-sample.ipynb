{
 "cells": [
  {
   "cell_type": "markdown",
   "metadata": {},
   "source": [
    "Read a list of integers from user input.Find all pairs of numbers in the list whose product is even and whose sum is odd.\n",
    "Print out a formatted list of the pairs."
   ]
  },
  {
   "cell_type": "code",
   "execution_count": 48,
   "metadata": {},
   "outputs": [
    {
     "name": "stdout",
     "output_type": "stream",
     "text": [
      "Enter the numbers :1 4 3 2 -5 -4\n",
      "-----------------------------\n",
      "Pairs of Numbers are as follows\n",
      "1 , 4\n",
      "1 , 2\n",
      "1 , -4\n",
      "4 , 3\n",
      "4 , -5\n",
      "3 , 2\n",
      "3 , -4\n",
      "2 , -5\n",
      "-5 , -4\n"
     ]
    }
   ],
   "source": [
    "# This segment is to just check if the entered numbers are comma or space separated and split them accordingly \n",
    "num = input (\"Enter the numbers :\")\n",
    "if num.find(' ') !=-1:\n",
    "    num=num.split(' ')\n",
    "else: \n",
    "    num=num.split(',')\n",
    "print(\"-----------------------------\")\n",
    "print(\"Pairs of Numbers are as follows\")\n",
    "\n",
    "#Starting a loop to take two numbers everytime and compare their product and sum and print accordingly.\n",
    "for i in range(len(num)):\n",
    "    for j in range(i+1,len(num)):\n",
    "        temp_prod=int(num[i])*int(num[j])\n",
    "        temp_sum=int(num[i])+int(num[j])\n",
    "        if temp_prod%2==0 and temp_sum%2 != 0:\n",
    "            print(num[i],\",\",num[j])"
   ]
  },
  {
   "cell_type": "code",
   "execution_count": null,
   "metadata": {},
   "outputs": [],
   "source": []
  }
 ],
 "metadata": {
  "kernelspec": {
   "display_name": "Python 3",
   "language": "python",
   "name": "python3"
  },
  "language_info": {
   "codemirror_mode": {
    "name": "ipython",
    "version": 3
   },
   "file_extension": ".py",
   "mimetype": "text/x-python",
   "name": "python",
   "nbconvert_exporter": "python",
   "pygments_lexer": "ipython3",
   "version": "3.6.5"
  }
 },
 "nbformat": 4,
 "nbformat_minor": 2
}
